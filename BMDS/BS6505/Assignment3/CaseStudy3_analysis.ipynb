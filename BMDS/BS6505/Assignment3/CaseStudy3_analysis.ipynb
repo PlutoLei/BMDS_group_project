{
 "nbformat": 4,
 "nbformat_minor": 5,
 "metadata": {
  "kernelspec": {
   "display_name": "Python [conda env:base] *",
   "language": "python",
   "name": "conda-base-py"
  },
  "language_info": {
   "name": "python",
   "pygments_lexer": "ipython3"
  }
 },
 "cells": [
  {
   "cell_type": "markdown",
   "metadata": {},
   "source": [
    "# Case Study 3: HIV Viral Load — New vs Standard Therapy\n",
    "\n",
    "**Bilingual overview | 双语概览**\n",
    "\n",
    "- **Design 设计**: Independent two-group comparison (Standard vs New therapy). 独立两组比较（标准疗法 vs 新疗法）。\n",
    "- **Outcome 结局**: Viral load (copies/mL). 病毒载量（拷贝数/毫升）。\n",
    "- **Goal 目标**: Test whether the distributions (or means) differ between groups. 检验两组分布（或均值）是否存在差异。\n",
    "\n",
    "**Recommended analysis 建议分析**\n",
    "1. Primary: Mann–Whitney U (Wilcoxon rank-sum) test — non-parametric. 主要：Mann–Whitney U（Wilcoxon 秩和）非参数检验。\n",
    "2. Secondary: Welch's t-test as a robustness check. 次要：Welch t 检验作为稳健性参考。\n",
    "3. Effect sizes: Cliff's delta (非参效应量) + Hedges' g (均值差效应量)。\n",
    "4. Visualization: Boxplot + jitter, Violinplot (use log–y due to skew). 可视化：箱线图+抖动点、小提琴图（因偏态使用对数坐标）。\n"
   ],
   "id": "9730901defbe75c4"
  },
  {
   "cell_type": "markdown",
   "metadata": {},
   "source": [
    "## 1) Load data 读取数据\n",
    "This will try typical paths; if not found, please set `DATA_PATH` manually. 将尝试常见路径；若未找到，请手动设置 `DATA_PATH`。"
   ],
   "id": "6b5d008d8eb49d84"
  },
  {
   "cell_type": "code",
   "metadata": {
    "ExecuteTime": {
     "end_time": "2025-09-05T13:32:09.564393Z",
     "start_time": "2025-09-05T13:32:09.550976Z"
    }
   },
   "source": [
    "import pandas as pd, numpy as np, os\n",
    "from pathlib import Path\n",
    "\n",
    "CANDIDATE_PATHS = [\n",
    "    'week6_data_CS3.txt',                # current working dir\n",
    "    '/mnt/data/week6_data_CS3.txt'      # ChatGPT sandbox path (if running here)\n",
    "]\n",
    "DATA_PATH = None\n",
    "for p in CANDIDATE_PATHS:\n",
    "    if Path(p).exists():\n",
    "        DATA_PATH = p\n",
    "        break\n",
    "if DATA_PATH is None:\n",
    "    raise FileNotFoundError('Could not find week6_data_CS3.txt. Please set DATA_PATH to your file path.')\n",
    "\n",
    "df = pd.read_csv(DATA_PATH, sep='\\t')\n",
    "df['ViralLoad'] = df['ViralLoad'].replace('Undetectable', 0).astype(float)\n",
    "df.head()"
   ],
   "id": "6e69de510eb4aa9b",
   "outputs": [
    {
     "data": {
      "text/plain": [
       "    Therapy  ViralLoad\n",
       "0  Standard     7500.0\n",
       "1  Standard     8000.0\n",
       "2  Standard     2000.0\n",
       "3  Standard      550.0\n",
       "4  Standard     1250.0"
      ],
      "text/html": [
       "<div>\n",
       "<style scoped>\n",
       "    .dataframe tbody tr th:only-of-type {\n",
       "        vertical-align: middle;\n",
       "    }\n",
       "\n",
       "    .dataframe tbody tr th {\n",
       "        vertical-align: top;\n",
       "    }\n",
       "\n",
       "    .dataframe thead th {\n",
       "        text-align: right;\n",
       "    }\n",
       "</style>\n",
       "<table border=\"1\" class=\"dataframe\">\n",
       "  <thead>\n",
       "    <tr style=\"text-align: right;\">\n",
       "      <th></th>\n",
       "      <th>Therapy</th>\n",
       "      <th>ViralLoad</th>\n",
       "    </tr>\n",
       "  </thead>\n",
       "  <tbody>\n",
       "    <tr>\n",
       "      <th>0</th>\n",
       "      <td>Standard</td>\n",
       "      <td>7500.0</td>\n",
       "    </tr>\n",
       "    <tr>\n",
       "      <th>1</th>\n",
       "      <td>Standard</td>\n",
       "      <td>8000.0</td>\n",
       "    </tr>\n",
       "    <tr>\n",
       "      <th>2</th>\n",
       "      <td>Standard</td>\n",
       "      <td>2000.0</td>\n",
       "    </tr>\n",
       "    <tr>\n",
       "      <th>3</th>\n",
       "      <td>Standard</td>\n",
       "      <td>550.0</td>\n",
       "    </tr>\n",
       "    <tr>\n",
       "      <th>4</th>\n",
       "      <td>Standard</td>\n",
       "      <td>1250.0</td>\n",
       "    </tr>\n",
       "  </tbody>\n",
       "</table>\n",
       "</div>"
      ]
     },
     "execution_count": 1,
     "metadata": {},
     "output_type": "execute_result"
    }
   ],
   "execution_count": 1
  },
  {
   "cell_type": "markdown",
   "metadata": {},
   "source": [
    "## 2) Quick EDA 快速探索性分析"
   ],
   "id": "5eeb154f4c1b4287"
  },
  {
   "cell_type": "code",
   "metadata": {
    "ExecuteTime": {
     "end_time": "2025-09-05T13:32:14.297888Z",
     "start_time": "2025-09-05T13:32:14.285683Z"
    }
   },
   "source": [
    "summary = df.groupby('Therapy')['ViralLoad'].agg(['count','mean','median','std','min','max'])\n",
    "iqr = df.groupby('Therapy')['ViralLoad'].quantile([0.25,0.75]).unstack()\n",
    "summary['q25'] = iqr[0.25]; summary['q75'] = iqr[0.75]\n",
    "summary"
   ],
   "id": "de6d19c8cb2b999",
   "outputs": [
    {
     "data": {
      "text/plain": [
       "          count         mean  median          std    min     max    q25  \\\n",
       "Therapy                                                                   \n",
       "New          15  2920.666667  1420.0  2703.321942    0.0  8000.0  860.0   \n",
       "Standard     15  3415.333333  2000.0  3163.873906  400.0  9100.0  985.0   \n",
       "\n",
       "             q75  \n",
       "Therapy           \n",
       "New       4700.0  \n",
       "Standard  6550.0  "
      ],
      "text/html": [
       "<div>\n",
       "<style scoped>\n",
       "    .dataframe tbody tr th:only-of-type {\n",
       "        vertical-align: middle;\n",
       "    }\n",
       "\n",
       "    .dataframe tbody tr th {\n",
       "        vertical-align: top;\n",
       "    }\n",
       "\n",
       "    .dataframe thead th {\n",
       "        text-align: right;\n",
       "    }\n",
       "</style>\n",
       "<table border=\"1\" class=\"dataframe\">\n",
       "  <thead>\n",
       "    <tr style=\"text-align: right;\">\n",
       "      <th></th>\n",
       "      <th>count</th>\n",
       "      <th>mean</th>\n",
       "      <th>median</th>\n",
       "      <th>std</th>\n",
       "      <th>min</th>\n",
       "      <th>max</th>\n",
       "      <th>q25</th>\n",
       "      <th>q75</th>\n",
       "    </tr>\n",
       "    <tr>\n",
       "      <th>Therapy</th>\n",
       "      <th></th>\n",
       "      <th></th>\n",
       "      <th></th>\n",
       "      <th></th>\n",
       "      <th></th>\n",
       "      <th></th>\n",
       "      <th></th>\n",
       "      <th></th>\n",
       "    </tr>\n",
       "  </thead>\n",
       "  <tbody>\n",
       "    <tr>\n",
       "      <th>New</th>\n",
       "      <td>15</td>\n",
       "      <td>2920.666667</td>\n",
       "      <td>1420.0</td>\n",
       "      <td>2703.321942</td>\n",
       "      <td>0.0</td>\n",
       "      <td>8000.0</td>\n",
       "      <td>860.0</td>\n",
       "      <td>4700.0</td>\n",
       "    </tr>\n",
       "    <tr>\n",
       "      <th>Standard</th>\n",
       "      <td>15</td>\n",
       "      <td>3415.333333</td>\n",
       "      <td>2000.0</td>\n",
       "      <td>3163.873906</td>\n",
       "      <td>400.0</td>\n",
       "      <td>9100.0</td>\n",
       "      <td>985.0</td>\n",
       "      <td>6550.0</td>\n",
       "    </tr>\n",
       "  </tbody>\n",
       "</table>\n",
       "</div>"
      ]
     },
     "execution_count": 2,
     "metadata": {},
     "output_type": "execute_result"
    }
   ],
   "execution_count": 2
  },
  {
   "cell_type": "markdown",
   "metadata": {},
   "source": [
    "## 3) Statistical tests 统计检验"
   ],
   "id": "e9cc11c18d62bde8"
  },
  {
   "cell_type": "code",
   "metadata": {
    "ExecuteTime": {
     "end_time": "2025-09-05T13:40:07.893197Z",
     "start_time": "2025-09-05T13:40:07.876368Z"
    }
   },
   "source": [
    "from scipy.stats import mannwhitneyu, ttest_ind\n",
    "std = df.loc[df['Therapy']=='Standard','ViralLoad'].to_numpy()\n",
    "new = df.loc[df['Therapy']=='New','ViralLoad'].to_numpy()\n",
    "\n",
    "# Mann–Whitney U (two-sided)\n",
    "u_stat, p_mw = mannwhitneyu(std, new, alternative='two-sided')\n",
    "\n",
    "print(f\"Mann–Whitney U test: U={u_stat:.2f}, p={p_mw:.6f}\")"
   ],
   "id": "ae2452a338527072",
   "outputs": [
    {
     "name": "stdout",
     "output_type": "stream",
     "text": [
      "Mann–Whitney U test: U=125.00, p=0.618591\n"
     ]
    }
   ],
   "execution_count": 8
  },
  {
   "cell_type": "markdown",
   "metadata": {},
   "source": [
    "## 4) Effect sizes 效应量"
   ],
   "id": "a442aebf6fd5513f"
  },
  {
   "cell_type": "code",
   "metadata": {
    "ExecuteTime": {
     "end_time": "2025-09-05T13:32:43.977479Z",
     "start_time": "2025-09-05T13:32:43.973966Z"
    }
   },
   "source": [
    "import math\n",
    "\n",
    "def hedges_g(x, y):\n",
    "    x = np.asarray(x); y = np.asarray(y)\n",
    "    nx, ny = len(x), len(y)\n",
    "    vx, vy = np.var(x, ddof=1), np.var(y, ddof=1)\n",
    "    s_pooled = math.sqrt(((nx-1)*vx + (ny-1)*vy) / (nx+ny-2))\n",
    "    d = (np.mean(x) - np.mean(y)) / s_pooled\n",
    "    J = 1 - 3/(4*(nx+ny) - 9)\n",
    "    return J*d\n",
    "\n",
    "def cliffs_delta(x, y):\n",
    "    x = list(x); y = list(y)\n",
    "    gt = lt = eq = 0\n",
    "    for xi in x:\n",
    "        for yj in y:\n",
    "            if xi > yj: gt += 1\n",
    "            elif xi < yj: lt += 1\n",
    "            else: eq += 1\n",
    "    n = len(x)*len(y)\n",
    "    return (gt - lt)/n\n",
    "\n",
    "g = hedges_g(std, new)\n",
    "delta = cliffs_delta(std, new)\n",
    "print(f\"Hedges' g (mean difference effect size): {g:.3f}\")\n",
    "print(f\"Cliff's delta (nonparametric effect size): {delta:.3f}\")"
   ],
   "id": "d3eed472870b1ad7",
   "outputs": [
    {
     "name": "stdout",
     "output_type": "stream",
     "text": [
      "Hedges' g (mean difference effect size): 0.164\n",
      "Cliff's delta (nonparametric effect size): 0.111\n"
     ]
    }
   ],
   "execution_count": 4
  },
  {
   "cell_type": "markdown",
   "metadata": {},
   "source": [
    "## 5) Visualization 可视化\n",
    "Two separate figures (no subplots) and no explicit colors. 两幅独立图（无子图），不指定颜色。"
   ],
   "id": "3d82d48a69634778"
  },
  {
   "cell_type": "code",
   "metadata": {
    "ExecuteTime": {
     "end_time": "2025-09-05T13:35:12.643031Z",
     "start_time": "2025-09-05T13:35:12.565280Z"
    }
   },
   "source": [
    "import matplotlib.pyplot as plt\n",
    "import numpy as np\n",
    "\n",
    "LOG_SCALE = True\n",
    "\n",
    "# Figure 1: Boxplot + jitter\n",
    "plt.figure(figsize=(7,5))\n",
    "data_groups = [std, new]\n",
    "positions = [1,2]\n",
    "plt.boxplot(data_groups, positions=positions, widths=0.5, showfliers=True)\n",
    "np.random.seed(0)\n",
    "plt.scatter(np.random.normal(positions[0], 0.05, size=len(std)), std, alpha=0.7)\n",
    "plt.scatter(np.random.normal(positions[1], 0.05, size=len(new)), new, alpha=0.7)\n",
    "plt.xticks(positions, ['Standard', 'New'])\n",
    "plt.ylabel('Viral Load')\n",
    "plt.title('Viral Load by Therapy — Boxplot + Jitter')\n",
    "if LOG_SCALE:\n",
    "    plt.yscale('log')\n",
    "plt.tight_layout()\n",
    "plt.show()"
   ],
   "id": "74fdbd3f6ca9f291",
   "outputs": [
    {
     "data": {
      "text/plain": [
       "<Figure size 700x500 with 1 Axes>"
      ],
      "image/png": "[encoded data removed]"
     },
     "metadata": {},
     "output_type": "display_data",
     "jetTransient": {
      "display_id": null
     }
    }
   ],
   "execution_count": 7
  },
  {
   "cell_type": "markdown",
   "metadata": {},
   "source": [
    "## 6) Conclusion 结论\n",
    "**English**: If p < 0.05 in the Mann–Whitney test, conclude that the new therapy differs from standard therapy in viral load; if the distribution (or median) is lower, it suggests better efficacy of the new therapy.\n",
    "\n",
    "**中文**：若 Mann–Whitney 检验的 p < 0.05，则认为新疗法与标准疗法在病毒载量上存在显著差异；若新疗法的分布（或中位数）更低，则提示新疗法更有效。"
   ],
   "id": "a61f667c5c4dd817"
  }
 ]
}
